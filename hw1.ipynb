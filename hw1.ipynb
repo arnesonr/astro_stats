{
 "metadata": {
  "name": "",
  "signature": "sha256:9c957b6db6bea0b4ea9f1609bee9fa1586ab2eb1d4b2812469b73afb82f45dc2"
 },
 "nbformat": 3,
 "nbformat_minor": 0,
 "worksheets": [
  {
   "cells": [
    {
     "cell_type": "heading",
     "level": 1,
     "metadata": {},
     "source": [
      "Ryan Arneson-----AST 4031-----Homework #1"
     ]
    },
    {
     "cell_type": "code",
     "collapsed": false,
     "input": [
      "%matplotlib inline"
     ],
     "language": "python",
     "metadata": {},
     "outputs": [],
     "prompt_number": 1
    },
    {
     "cell_type": "heading",
     "level": 2,
     "metadata": {},
     "source": [
      "#1 a)"
     ]
    },
    {
     "cell_type": "code",
     "collapsed": false,
     "input": [
      "from astropy.io import fits\n",
      "from matplotlib import pyplot as p\n",
      "import numpy as n\n",
      "import scipy.integrate as integ\n",
      "from scipy.interpolate import InterpolatedUnivariateSpline\n",
      "import scipy.stats as stats\n",
      "\n",
      "hdulist = fits.open('sdss.fits')\n",
      "#data in form [objID,run,rerun,camcol,field,obj,type,ra,dec,u,g,r,i,z,\n",
      "#err_u,err_g,err_r,err_i,err_z]\n",
      "data = hdulist[1].data\n",
      "hdr = hdulist[1].header\n",
      "hdulist.close()\n",
      "#a) plot histogram of g-r\n",
      "g = data.field('g')\n",
      "r = data.field('r')\n",
      "gmr = g-r\n",
      "c, bins, patches = p.hist(gmr,bins=35,log=True)\n",
      "p.xlabel('g-r')\n",
      "p.ylabel('number of objects')\n",
      "p.title('g-r Histogram')\n",
      "#p.savefig('g_r_hist')"
     ],
     "language": "python",
     "metadata": {},
     "outputs": [
      {
       "metadata": {},
       "output_type": "pyout",
       "prompt_number": 2,
       "text": [
        "<matplotlib.text.Text at 0x10611df90>"
       ]
      },
      {
       "metadata": {},
       "output_type": "display_data",
       "png": "[encoded data removed]",
       "text": [
        "<matplotlib.figure.Figure at 0x106052890>"
       ]
      }
     ],
     "prompt_number": 2
    },
    {
     "cell_type": "markdown",
     "metadata": {},
     "source": [
      "I have used a logarithmic normalization to display a wider range of values.  The distribution will not have much detail if the bins sizes are too large.  But if the bin sizes are choosen to be too small then the bins will have no counts."
     ]
    },
    {
     "cell_type": "heading",
     "level": 2,
     "metadata": {},
     "source": [
      "b)"
     ]
    },
    {
     "cell_type": "markdown",
     "metadata": {},
     "source": [
      "To calculate the median I first sorted the elements from the minimum value to the maximum in increasing order (I did not write this algorithm from scratch).  The median is the middle value of the sorted list if there are odd elements in the list and I took the average of the two middle numbers if the list has an even number of elements."
     ]
    },
    {
     "cell_type": "code",
     "collapsed": false,
     "input": [
      "def median(array):\n",
      "    \"\"\"\n",
      "    PURPOSE: Calculate the median value of an 1d array\n",
      "\n",
      "    ARGUMENTS:\n",
      "        array: 1d array\n",
      "\n",
      "    RETURNS: median value\n",
      "    \"\"\"\n",
      "    #sort the array from low to high\n",
      "    array.sort()\n",
      "    #find the middle of the array\n",
      "    mid = n.size(array)/2\n",
      "    #if there is an even number of elements return the average of the middle two\n",
      "    if n.size(array) % 2 == 0:\n",
      "        return (array[mid-1] + array[mid]) / 2.0\n",
      "    #otherwise return the middle of the array\n",
      "    else:\n",
      "        return array[mid]\n",
      "    \n",
      "print \"Median g-r:\", median(gmr)\n"
     ],
     "language": "python",
     "metadata": {},
     "outputs": [
      {
       "output_type": "stream",
       "stream": "stdout",
       "text": [
        "Median g-r: 0.673199\n"
       ]
      }
     ],
     "prompt_number": 3
    },
    {
     "cell_type": "heading",
     "level": 2,
     "metadata": {},
     "source": [
      "c)"
     ]
    },
    {
     "cell_type": "code",
     "collapsed": false,
     "input": [
      "hdulist = fits.open('sdss.fits')\n",
      "#data in form [objID,run,rerun,camcol,field,obj,type,ra,dec,u,g,r,i,z,\n",
      "#err_u,err_g,err_r,err_i,err_z]\n",
      "data = hdulist[1].data\n",
      "hdr = hdulist[1].header\n",
      "hdulist.close()\n",
      "#a) plot histogram of g-r\n",
      "g = data.field('g')\n",
      "r = data.field('r')\n",
      "i = data.field('i')\n",
      "rmi = r-i\n",
      "gmr = g-r\n",
      "p.plot(rmi,gmr,'k.',color='black')\n",
      "p.axis([-.5,2.0,-.5,2.0])\n",
      "p.xlabel('r-i')\n",
      "p.ylabel('g-r')\n",
      "p.title('g-r vs. r-i')\n",
      "#p.savefig('ri_gr_plot')"
     ],
     "language": "python",
     "metadata": {},
     "outputs": [
      {
       "metadata": {},
       "output_type": "pyout",
       "prompt_number": 4,
       "text": [
        "<matplotlib.text.Text at 0x106450610>"
       ]
      }
     ]
    },
    {
     "cell_type": "heading",
     "level": 2,
     "metadata": {},
     "source": [
      "d)"
     ]
    },
    {
     "cell_type": "code",
     "collapsed": false,
     "input": [
      "p.hist2d(rmi,gmr,bins=40,range=((-.5,2.0),(-.5,2.0)))\n",
      "p.xlabel('r-i')\n",
      "p.ylabel('g-r')\n",
      "p.title('g-r vs. r-i')\n",
      "p.colorbar()\n",
      "#p.savefig('ri_gr_hist')"
     ],
     "language": "python",
     "metadata": {},
     "outputs": [
      {
       "metadata": {},
       "output_type": "pyout",
       "prompt_number": 5,
       "text": [
        "<matplotlib.colorbar.Colorbar instance at 0x11236a7a0>"
       ]
      },
      {
       "metadata": {},
       "output_type": "display_data",
       "png": "[encoded data removed]",
       "text": [
        "<matplotlib.figure.Figure at 0x110727f10>"
       ]
      }
     ],
     "prompt_number": 5
    },
    {
     "cell_type": "markdown",
     "metadata": {},
     "source": [
      "I picked enough bins to see all the details in the distribution but not too many that the number of counts in most of the bins went to zero. "
     ]
    },
    {
     "cell_type": "heading",
     "level": 2,
     "metadata": {},
     "source": [
      "#2 a)"
     ]
    },
    {
     "cell_type": "code",
     "collapsed": false,
     "input": [
      "hdulist = fits.open('distribution.fits')\n",
      "data = hdulist[0].data\n",
      "hdr = hdulist[0].header\n",
      "hdulist.close()\n",
      "x = data[0]\n",
      "f = data[1]\n",
      "#normalize the pdf\n",
      "bin_size = x[2]-x[1]\n",
      "area = n.sum(bin_size*f)\n",
      "#rescale f\n",
      "f = f/area\n",
      "#make x finer resolution\n",
      "#spline the data\n",
      "spl = InterpolatedUnivariateSpline(x, f)\n",
      "#decide on the number of new xs\n",
      "xs = n.linspace(-30., 30., 500)"
     ],
     "language": "python",
     "metadata": {},
     "outputs": [],
     "prompt_number": 6
    },
    {
     "cell_type": "heading",
     "level": 2,
     "metadata": {},
     "source": [
      "b)"
     ]
    },
    {
     "cell_type": "code",
     "collapsed": false,
     "input": [
      "#plot the new pdf\n",
      "p.plot(xs, spl(xs), '.-')\n",
      "p.xlabel('x')\n",
      "p.ylabel('number of objects')\n",
      "p.title('#2 Histogram')\n",
      "#p.savefig('p2_hist')\n",
      "#calculate the expectation values\n",
      "Ex = integ.simps(spl(xs)*xs,xs)\n",
      "Ex2 = integ.simps(spl(xs)*xs**2,xs)\n",
      "stddev = n.sqrt(Ex2 - Ex**2)\n",
      "print \"Mean x:\", Ex\n",
      "print \"Median x:\", median(xs)\n",
      "print \"Standard Deviation of x:\", stddev"
     ],
     "language": "python",
     "metadata": {},
     "outputs": [
      {
       "output_type": "stream",
       "stream": "stdout",
       "text": [
        "Mean x: -1.24166858775\n",
        "Median x: -1.7763568394e-15\n",
        "Standard Deviation of x: 11.9307483937\n"
       ]
      },
      {
       "metadata": {},
       "output_type": "display_data",
       "png": "[encoded data removed]",
       "text": [
        "<matplotlib.figure.Figure at 0x111fb9e90>"
       ]
      }
     ],
     "prompt_number": 7
    },
    {
     "cell_type": "heading",
     "level": 2,
     "metadata": {},
     "source": [
      "c)"
     ]
    },
    {
     "cell_type": "code",
     "collapsed": false,
     "input": [
      "#The best way to sample the PDF is to first find the CDF and invert that to get the random variable x distributed accordingly\n",
      "#to generate the CDF we need to find the sum of the PDF from -inf to x\n",
      "#first make small bins in x\n",
      "xs = n.linspace(-30.,30.,10000)\n",
      "cdf = n.copy(xs)\n",
      "Px = spl(xs)\n",
      "#the cdf is the cumulative sum of the pdf from -inf\n",
      "cdf = n.cumsum(Px)\n",
      "#normalize the CDF to 1\n",
      "cdf = cdf/n.sum(Px)\n",
      "#get the functional form of the CDF from splining the data\n",
      "#invert the spline at this point\n",
      "cdfspl = InterpolatedUnivariateSpline(cdf,xs)\n",
      "#to generate a random number from the pdf all we need is a random number between 0-1 and we can use cdfspline to get \n",
      "#the corresponding x cdfspline(n.uniform.random())\n",
      "#get 5 random draws from the pdf\n",
      "d_i = n.zeros(5)\n",
      "for i in range(0,5):\n",
      "    d_i[i] = cdfspl(n.random.uniform())\n",
      "print \"Mean of d_i:\", d_i.mean()\n",
      "print \"Standard Deviation of d_i:\", d_i.std()\n",
      "p.hist(d_i,bins=60,range=(-30.,30.))\n",
      "p.xlabel('x')\n",
      "p.ylabel('number of objects')\n",
      "p.title('#2c) Histogram')\n",
      "#p.savefig('2_histogram')"
     ],
     "language": "python",
     "metadata": {},
     "outputs": [
      {
       "output_type": "stream",
       "stream": "stdout",
       "text": [
        "Mean of d_i: -3.36903344536\n",
        "Standard Deviation of d_i: 11.4665773362\n"
       ]
      },
      {
       "metadata": {},
       "output_type": "pyout",
       "prompt_number": 14,
       "text": [
        "<matplotlib.text.Text at 0x112c161d0>"
       ]
      },
      {
       "metadata": {},
       "output_type": "display_data",
       "png": "[encoded data removed]",
       "text": [
        "<matplotlib.figure.Figure at 0x1128a8410>"
       ]
      }
     ],
     "prompt_number": 14
    },
    {
     "cell_type": "heading",
     "level": 2,
     "metadata": {},
     "source": [
      "d)"
     ]
    },
    {
     "cell_type": "code",
     "collapsed": false,
     "input": [
      "#draw 5 numbers one hundred times\n",
      "k = n.zeros((100,5))\n",
      "for i in range(0,100):\n",
      "    for j in range(0,5):\n",
      "        k[i][j] = cdfspl(n.random.uniform())\n",
      "k_means = n.zeros(100)\n",
      "k_std = n.zeros(100)\n",
      "for i in range(0,100):\n",
      "    k_means[i] = n.mean(k[i][:])\n",
      "    k_std[i] = n.std(k[i][:])\n",
      "p.hist(k_means,bins=60,range=(-30,30))\n",
      "p.xlabel('x')\n",
      "p.ylabel('count')\n",
      "p.title('Means of 100 Samples')\n",
      "print \"Mean of sample means:\", n.mean(k_means)\n",
      "print \"Standard Deviation of the sample:\", n.std(k_means)"
     ],
     "language": "python",
     "metadata": {},
     "outputs": [
      {
       "output_type": "stream",
       "stream": "stdout",
       "text": [
        "Mean of sample means: -1.78432106218\n",
        "Standard Deviation of the sample: 5.12954654272\n"
       ]
      },
      {
       "metadata": {},
       "output_type": "display_data",
       "png": "[encoded data removed]",
       "text": [
        "<matplotlib.figure.Figure at 0x112839e90>"
       ]
      }
     ],
     "prompt_number": 20
    },
    {
     "cell_type": "markdown",
     "metadata": {},
     "source": [
      "The mean of the sample means is about 30% percent away from the expected value.  But the standard deviation is 5.4."
     ]
    },
    {
     "cell_type": "heading",
     "level": 2,
     "metadata": {},
     "source": [
      "e)"
     ]
    },
    {
     "cell_type": "code",
     "collapsed": false,
     "input": [
      "def MC(k,m,cdf):\n",
      "    \"\"\"\n",
      "    PURPOSE: Runs a Monte Carlo sampling of the pdf p\n",
      "\n",
      "    ARGUMENTS:\n",
      "        k: number of samples\n",
      "        m: data points in each sample\n",
      "        p: function, the cdf function to draw from\n",
      "\n",
      "    RETURNS: the matrix of random numbers, the sample means and stddev\n",
      "    \"\"\"\n",
      "    d_k = n.zeros((k,m))\n",
      "    for i in range(0,k):\n",
      "        for j in range(0,m):\n",
      "            d_k[i][j] = cdf(n.random.uniform())\n",
      "    d_k_means = n.zeros(k)\n",
      "    d_k_std = n.zeros(k)\n",
      "    for i in range(0,k):\n",
      "        d_k_means[i] = n.mean(d_k[i][:])\n",
      "        d_k_std[i] = n.std(d_k[i][:])\n",
      "    return d_k, d_k_means, d_k_std\n",
      "\n",
      "#Try using N=50,500,5000,50000\n",
      "d_51, m_51, std_51 = MC(100,50,cdfspl)\n",
      "print \"N=50:\"\n",
      "print \"Mean of sample means:\", n.mean(m_51)\n",
      "print \"Standard Deviation of the sample:\", n.std(m_51)"
     ],
     "language": "python",
     "metadata": {},
     "outputs": [
      {
       "output_type": "stream",
       "stream": "stdout",
       "text": [
        "N=50:\n",
        "Mean of sample means: -1.33665693836\n",
        "Standard Deviation of the sample: 1.61041620363\n"
       ]
      }
     ],
     "prompt_number": 23
    },
    {
     "cell_type": "code",
     "collapsed": false,
     "input": [
      "d_52, m_52, std_52 = MC(100,500,cdfspl)\n",
      "n.save('d_52', d_52)\n",
      "print \"N=500:\"\n",
      "print \"Mean of sample means:\", n.mean(m_52)\n",
      "print \"Standard Deviation of the sample:\", n.std(m_52)"
     ],
     "language": "python",
     "metadata": {},
     "outputs": [
      {
       "output_type": "stream",
       "stream": "stdout",
       "text": [
        "N=500:\n",
        "Mean of sample means: -1.25477150823\n",
        "Standard Deviation of the sample: 0.580749490049\n"
       ]
      }
     ],
     "prompt_number": 24
    },
    {
     "cell_type": "code",
     "collapsed": false,
     "input": [
      "d_53, m_53, std_53 = MC(100,5000,cdfspl)\n",
      "n.save('d_53', d_53)\n",
      "print \"N=5,000:\"\n",
      "print \"Mean of sample means:\", n.mean(m_53)\n",
      "print \"Standard Deviation of the sample:\", n.std(m_53)"
     ],
     "language": "python",
     "metadata": {},
     "outputs": [
      {
       "output_type": "stream",
       "stream": "stdout",
       "text": [
        "N=5,000:\n",
        "Mean of sample means: -1.23143763267\n",
        "Standard Deviation of the sample: 0.151830705069\n"
       ]
      }
     ],
     "prompt_number": 25
    },
    {
     "cell_type": "code",
     "collapsed": false,
     "input": [
      "d_54, m_54, std_54 = MC(100,50000,cdfspl)\n",
      "n.save('d_54', d_54)\n",
      "print \"N=50,000:\"\n",
      "print \"Mean of sample means:\", n.mean(m_54)\n",
      "print \"Standard Deviation of the sample:\", n.std(m_54)"
     ],
     "language": "python",
     "metadata": {},
     "outputs": [
      {
       "output_type": "stream",
       "stream": "stdout",
       "text": [
        "N=50,000:\n",
        "Mean of sample means: -1.24349544304\n",
        "Standard Deviation of the sample: 0.0465341560135\n"
       ]
      }
     ],
     "prompt_number": 26
    },
    {
     "cell_type": "code",
     "collapsed": false,
     "input": [
      "Ns = [5,50,500,5000,50000]\n",
      "mus = [n.mean(k_means),n.mean(m_51),n.mean(m_52),n.mean(m_53),n.mean(m_54)]\n",
      "p.loglog(Ns,n.abs(mus),'go')\n",
      "p.xlabel('Sample Size, N')\n",
      "p.ylabel('Absolute Value of Sample Mean')\n",
      "p.title('Sample Mean vs. Sample Size')"
     ],
     "language": "python",
     "metadata": {},
     "outputs": [
      {
       "metadata": {},
       "output_type": "pyout",
       "prompt_number": 28,
       "text": [
        "<matplotlib.text.Text at 0x115f40090>"
       ]
      },
      {
       "metadata": {},
       "output_type": "display_data",
       "png": "[encoded data removed]",
       "text": [
        "<matplotlib.figure.Figure at 0x115ffb150>"
       ]
      }
     ],
     "prompt_number": 28
    },
    {
     "cell_type": "code",
     "collapsed": false,
     "input": [
      "stds = [n.std(k_means),n.std(m_51),n.std(m_52),n.std(m_53),n.std(m_54)]\n",
      "p.loglog(Ns,stds,'bo')\n",
      "p.xlabel('Sample Size, N')\n",
      "p.ylabel('Sample Standard Deviation')\n",
      "p.title('Sample Standard Deviation vs. Sample Size')"
     ],
     "language": "python",
     "metadata": {},
     "outputs": [
      {
       "metadata": {},
       "output_type": "pyout",
       "prompt_number": 29,
       "text": [
        "<matplotlib.text.Text at 0x116190810>"
       ]
      },
      {
       "metadata": {},
       "output_type": "display_data",
       "png": "[encoded data removed]",
       "text": [
        "<matplotlib.figure.Figure at 0x115f89090>"
       ]
      }
     ],
     "prompt_number": 29
    },
    {
     "cell_type": "markdown",
     "metadata": {},
     "source": [
      "The sample mean converges to the expectation value linearly with $N$ and the standard deviation decreases proportional to $\\frac{1}{N^2}$"
     ]
    },
    {
     "cell_type": "heading",
     "level": 3,
     "metadata": {},
     "source": [
      "#3a)"
     ]
    },
    {
     "cell_type": "code",
     "collapsed": false,
     "input": [
      "#stats.binom()\n",
      "n_values = [20, 30, 50]\n",
      "b_values = [0.2, 0.6, 0.5]\n",
      "linestyles = ['-', '--', ':']\n",
      "x = n.arange(-1, 200)\n",
      "# plot the distributions\n",
      "for i in range(0,3):    \n",
      "    # create a binomial distribution\n",
      "    dist = stats.binom(n_values[i], b_values[i])\n",
      "    p.plot(x, dist.pmf(x), ls=linestyles[i], color='black', \n",
      "        label='b=%.1f, n=%i' % (b_values[i], n_values[i]), linestyle='steps-mid')\n",
      "\n",
      "p.xlim(-0.5, 35)\n",
      "p.ylim(0, 0.25)\n",
      "p.xlabel('x')\n",
      "p.ylabel('p(x)')\n",
      "p.title('Binomial PDF')\n",
      "p.legend()\n",
      "#p.savefig('binomial_pdf')"
     ],
     "language": "python",
     "metadata": {},
     "outputs": [
      {
       "metadata": {},
       "output_type": "pyout",
       "prompt_number": 67,
       "text": [
        "<matplotlib.legend.Legend at 0x10c09cf90>"
       ]
      },
      {
       "metadata": {},
       "output_type": "display_data",
       "png": "[encoded data removed]",
       "text": [
        "<matplotlib.figure.Figure at 0x10bc2aed0>"
       ]
      }
     ],
     "prompt_number": 67
    },
    {
     "cell_type": "code",
     "collapsed": false,
     "input": [
      "#stats.norm\n",
      "sigma_values = [0.5, 1.0, 2.0]\n",
      "linestyles = ['-', '--', ':']\n",
      "mu_values = [-2.0,2.0,0.0]\n",
      "x = n.linspace(-10, 10, 1000)\n",
      "\n",
      "for i in range(0,3):\n",
      "    # create a gaussian / normal distribution\n",
      "    dist = stats.norm(mu_values[i], sigma_values[i])\n",
      "    p.plot(x, dist.pdf(x), ls=linestyles[i], color='black', label='$\\mu=%.1f, \\sigma=%.1f$' % (mu_values[i], sigma_values[i]))\n",
      "\n",
      "p.xlim(-5, 5)\n",
      "p.ylim(0, 0.85)\n",
      "p.xlabel('x')\n",
      "p.ylabel('p(x)')\n",
      "p.title('Gaussian PDF')\n",
      "p.legend()\n",
      "#p.savefig('normal_pdf')\n"
     ],
     "language": "python",
     "metadata": {},
     "outputs": [
      {
       "metadata": {},
       "output_type": "pyout",
       "prompt_number": 68,
       "text": [
        "<matplotlib.legend.Legend at 0x10c09cc50>"
       ]
      },
      {
       "metadata": {},
       "output_type": "display_data",
       "png": "[encoded data removed]",
       "text": [
        "<matplotlib.figure.Figure at 0x10b20ba90>"
       ]
      }
     ],
     "prompt_number": 68
    },
    {
     "cell_type": "code",
     "collapsed": false,
     "input": [
      "#Poisson PDF\n",
      "mu_values = [5, 10, 20]\n",
      "linestyles = ['-', '--', ':']\n",
      "for i in range(0,3):\n",
      "    dist = stats.poisson(mu_values[i])\n",
      "    x = n.arange(-1, 200)\n",
      "    p.plot(x, dist.pmf(x), ls=linestyles[i], color='black', label='$\\mu=%i$' % mu_values[i], linestyle='steps-mid')\n",
      "\n",
      "p.xlim(-0.5, 30)\n",
      "p.ylim(0, 0.4)\n",
      "p.xlabel('x')\n",
      "p.ylabel('p(x)')\n",
      "p.title('Poisson PDF')\n",
      "p.legend()\n",
      "#p.savefig('poisson_pdf')"
     ],
     "language": "python",
     "metadata": {},
     "outputs": [
      {
       "metadata": {},
       "output_type": "pyout",
       "prompt_number": 75,
       "text": [
        "<matplotlib.legend.Legend at 0x10c0ff910>"
       ]
      },
      {
       "metadata": {},
       "output_type": "display_data",
       "png": "[encoded data removed]",
       "text": [
        "<matplotlib.figure.Figure at 0x10c0ff610>"
       ]
      }
     ],
     "prompt_number": 75
    },
    {
     "cell_type": "heading",
     "level": 2,
     "metadata": {},
     "source": [
      "b) CDFs"
     ]
    },
    {
     "cell_type": "code",
     "collapsed": false,
     "input": [
      "#Binomial CDF\n",
      "n_values = [20, 30, 50]\n",
      "b_values = [0.2, 0.6, 0.5]\n",
      "linestyles = ['-', '--', ':']\n",
      "x = n.arange(-1, 200)\n",
      "# plot the distributions\n",
      "for i in range(0,3):    \n",
      "    # create a binomial distribution\n",
      "    dist = stats.binom(n_values[i], b_values[i])\n",
      "    p.plot(x, dist.cdf(x), ls=linestyles[i], color='black', \n",
      "        label='b=%.1f, n=%i' % (b_values[i], n_values[i]), linestyle='steps-mid')\n",
      "\n",
      "p.xlim(-0.5, 40)\n",
      "p.ylim(0, 1.05)\n",
      "p.xlabel('x')\n",
      "p.ylabel('P(x)')\n",
      "p.title('Binomial CDF')\n",
      "p.legend(loc=4)\n",
      "p.savefig('binomial_cdf')\n"
     ],
     "language": "python",
     "metadata": {},
     "outputs": [
      {
       "metadata": {},
       "output_type": "display_data",
       "png": "[encoded data removed]",
       "text": [
        "<matplotlib.figure.Figure at 0x10c0cdf90>"
       ]
      }
     ],
     "prompt_number": 77
    },
    {
     "cell_type": "code",
     "collapsed": false,
     "input": [
      "#Gaussian CDF\n",
      "sigma_values = [0.5, 1.0, 2.0]\n",
      "linestyles = ['-', '--', ':']\n",
      "mu_values = [-2.0,2.0,0.0]\n",
      "x = n.linspace(-10, 10, 1000)\n",
      "\n",
      "for i in range(0,3):\n",
      "    # create a gaussian / normal distribution\n",
      "    dist = stats.norm(mu_values[i], sigma_values[i])\n",
      "    p.plot(x, dist.cdf(x), ls=linestyles[i], color='black', label='$\\mu=%.1f, \\sigma=%.1f$' % (mu_values[i], sigma_values[i]))\n",
      "\n",
      "p.xlim(-8, 8)\n",
      "p.ylim(0, 1.05)\n",
      "p.xlabel('x')\n",
      "p.ylabel('P(x)')\n",
      "p.title('Gaussian CDF')\n",
      "p.legend(loc=4)\n",
      "#p.savefig('normal_cdf')"
     ],
     "language": "python",
     "metadata": {},
     "outputs": [
      {
       "metadata": {},
       "output_type": "pyout",
       "prompt_number": 74,
       "text": [
        "<matplotlib.legend.Legend at 0x10c0c7d90>"
       ]
      },
      {
       "metadata": {},
       "output_type": "display_data",
       "png": "[encoded data removed]",
       "text": [
        "<matplotlib.figure.Figure at 0x10c0c7a50>"
       ]
      }
     ],
     "prompt_number": 74
    },
    {
     "cell_type": "code",
     "collapsed": false,
     "input": [
      "#Poisson CDF\n",
      "mu_values = [5, 10, 20]\n",
      "linestyles = ['-', '--', ':']\n",
      "for i in range(0,3):\n",
      "    dist = stats.poisson(mu_values[i])\n",
      "    x = n.arange(-1, 200)\n",
      "    p.plot(x, dist.cdf(x), ls=linestyles[i], color='black', label='$\\mu=%i$' % mu_values[i], linestyle='steps-mid')\n",
      "\n",
      "p.xlim(-0.5, 30)\n",
      "p.ylim(0, 1.05)\n",
      "p.xlabel('x')\n",
      "p.ylabel('P(x)')\n",
      "p.title('Poisson CDF')\n",
      "p.legend(loc=4)\n",
      "p.savefig('poisson_cdf')"
     ],
     "language": "python",
     "metadata": {},
     "outputs": [
      {
       "metadata": {},
       "output_type": "display_data",
       "png": "[encoded data removed]",
       "text": [
        "<matplotlib.figure.Figure at 0x10bcbe610>"
       ]
      }
     ],
     "prompt_number": 72
    }
   ],
   "metadata": {}
  }
 ]
}